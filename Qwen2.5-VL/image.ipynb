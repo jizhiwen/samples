{
 "cells": [
  {
   "cell_type": "code",
   "execution_count": 12,
   "id": "a4f323b5",
   "metadata": {
    "collapsed": true,
    "execution": {
     "iopub.execute_input": "2025-08-02T18:44:13.329158Z",
     "iopub.status.busy": "2025-08-02T18:44:13.329042Z",
     "iopub.status.idle": "2025-08-02T18:44:14.282082Z",
     "shell.execute_reply": "2025-08-02T18:44:14.281430Z",
     "shell.execute_reply.started": "2025-08-02T18:44:13.329144Z"
    },
    "jupyter": {
     "outputs_hidden": true,
     "source_hidden": true
    }
   },
   "outputs": [
    {
     "name": "stdout",
     "output_type": "stream",
     "text": [
      "Looking in indexes: https://mirrors.ustc.edu.cn/pypi/simple\n",
      "Requirement already satisfied: ipywidgets in /home/zw/miniconda3/envs/transformers/lib/python3.10/site-packages (8.1.7)\n",
      "Requirement already satisfied: jupyterlab-execute-time in /home/zw/miniconda3/envs/transformers/lib/python3.10/site-packages (3.2.0)\n",
      "Requirement already satisfied: comm>=0.1.3 in /home/zw/miniconda3/envs/transformers/lib/python3.10/site-packages (from ipywidgets) (0.2.3)\n",
      "Requirement already satisfied: ipython>=6.1.0 in /home/zw/miniconda3/envs/transformers/lib/python3.10/site-packages (from ipywidgets) (8.37.0)\n",
      "Requirement already satisfied: traitlets>=4.3.1 in /home/zw/miniconda3/envs/transformers/lib/python3.10/site-packages (from ipywidgets) (5.14.3)\n",
      "Requirement already satisfied: widgetsnbextension~=4.0.14 in /home/zw/miniconda3/envs/transformers/lib/python3.10/site-packages (from ipywidgets) (4.0.14)\n",
      "Requirement already satisfied: jupyterlab_widgets~=3.0.15 in /home/zw/miniconda3/envs/transformers/lib/python3.10/site-packages (from ipywidgets) (3.0.15)\n",
      "Requirement already satisfied: jupyterlab<5,>=4 in /home/zw/miniconda3/envs/transformers/lib/python3.10/site-packages (from jupyterlab-execute-time) (4.4.5)\n",
      "Requirement already satisfied: async-lru>=1.0.0 in /home/zw/miniconda3/envs/transformers/lib/python3.10/site-packages (from jupyterlab<5,>=4->jupyterlab-execute-time) (2.0.5)\n",
      "Requirement already satisfied: httpx>=0.25.0 in /home/zw/miniconda3/envs/transformers/lib/python3.10/site-packages (from jupyterlab<5,>=4->jupyterlab-execute-time) (0.28.1)\n",
      "Requirement already satisfied: ipykernel>=6.5.0 in /home/zw/miniconda3/envs/transformers/lib/python3.10/site-packages (from jupyterlab<5,>=4->jupyterlab-execute-time) (6.30.0)\n",
      "Requirement already satisfied: jinja2>=3.0.3 in /home/zw/miniconda3/envs/transformers/lib/python3.10/site-packages (from jupyterlab<5,>=4->jupyterlab-execute-time) (3.1.4)\n",
      "Requirement already satisfied: jupyter-core in /home/zw/miniconda3/envs/transformers/lib/python3.10/site-packages (from jupyterlab<5,>=4->jupyterlab-execute-time) (5.8.1)\n",
      "Requirement already satisfied: jupyter-lsp>=2.0.0 in /home/zw/miniconda3/envs/transformers/lib/python3.10/site-packages (from jupyterlab<5,>=4->jupyterlab-execute-time) (2.2.6)\n",
      "Requirement already satisfied: jupyter-server<3,>=2.4.0 in /home/zw/miniconda3/envs/transformers/lib/python3.10/site-packages (from jupyterlab<5,>=4->jupyterlab-execute-time) (2.16.0)\n",
      "Requirement already satisfied: jupyterlab-server<3,>=2.27.1 in /home/zw/miniconda3/envs/transformers/lib/python3.10/site-packages (from jupyterlab<5,>=4->jupyterlab-execute-time) (2.27.3)\n",
      "Requirement already satisfied: notebook-shim>=0.2 in /home/zw/miniconda3/envs/transformers/lib/python3.10/site-packages (from jupyterlab<5,>=4->jupyterlab-execute-time) (0.2.4)\n",
      "Requirement already satisfied: packaging in /home/zw/miniconda3/envs/transformers/lib/python3.10/site-packages (from jupyterlab<5,>=4->jupyterlab-execute-time) (25.0)\n",
      "Requirement already satisfied: setuptools>=41.1.0 in /home/zw/miniconda3/envs/transformers/lib/python3.10/site-packages (from jupyterlab<5,>=4->jupyterlab-execute-time) (78.1.1)\n",
      "Requirement already satisfied: tomli>=1.2.2 in /home/zw/miniconda3/envs/transformers/lib/python3.10/site-packages (from jupyterlab<5,>=4->jupyterlab-execute-time) (2.2.1)\n",
      "Requirement already satisfied: tornado>=6.2.0 in /home/zw/miniconda3/envs/transformers/lib/python3.10/site-packages (from jupyterlab<5,>=4->jupyterlab-execute-time) (6.5.1)\n",
      "Requirement already satisfied: anyio>=3.1.0 in /home/zw/miniconda3/envs/transformers/lib/python3.10/site-packages (from jupyter-server<3,>=2.4.0->jupyterlab<5,>=4->jupyterlab-execute-time) (4.9.0)\n",
      "Requirement already satisfied: argon2-cffi>=21.1 in /home/zw/miniconda3/envs/transformers/lib/python3.10/site-packages (from jupyter-server<3,>=2.4.0->jupyterlab<5,>=4->jupyterlab-execute-time) (25.1.0)\n",
      "Requirement already satisfied: jupyter-client>=7.4.4 in /home/zw/miniconda3/envs/transformers/lib/python3.10/site-packages (from jupyter-server<3,>=2.4.0->jupyterlab<5,>=4->jupyterlab-execute-time) (8.6.3)\n",
      "Requirement already satisfied: jupyter-events>=0.11.0 in /home/zw/miniconda3/envs/transformers/lib/python3.10/site-packages (from jupyter-server<3,>=2.4.0->jupyterlab<5,>=4->jupyterlab-execute-time) (0.12.0)\n",
      "Requirement already satisfied: jupyter-server-terminals>=0.4.4 in /home/zw/miniconda3/envs/transformers/lib/python3.10/site-packages (from jupyter-server<3,>=2.4.0->jupyterlab<5,>=4->jupyterlab-execute-time) (0.5.3)\n",
      "Requirement already satisfied: nbconvert>=6.4.4 in /home/zw/miniconda3/envs/transformers/lib/python3.10/site-packages (from jupyter-server<3,>=2.4.0->jupyterlab<5,>=4->jupyterlab-execute-time) (7.16.6)\n",
      "Requirement already satisfied: nbformat>=5.3.0 in /home/zw/miniconda3/envs/transformers/lib/python3.10/site-packages (from jupyter-server<3,>=2.4.0->jupyterlab<5,>=4->jupyterlab-execute-time) (5.10.4)\n",
      "Requirement already satisfied: overrides>=5.0 in /home/zw/miniconda3/envs/transformers/lib/python3.10/site-packages (from jupyter-server<3,>=2.4.0->jupyterlab<5,>=4->jupyterlab-execute-time) (7.7.0)\n",
      "Requirement already satisfied: prometheus-client>=0.9 in /home/zw/miniconda3/envs/transformers/lib/python3.10/site-packages (from jupyter-server<3,>=2.4.0->jupyterlab<5,>=4->jupyterlab-execute-time) (0.22.1)\n",
      "Requirement already satisfied: pyzmq>=24 in /home/zw/miniconda3/envs/transformers/lib/python3.10/site-packages (from jupyter-server<3,>=2.4.0->jupyterlab<5,>=4->jupyterlab-execute-time) (26.2.0)\n",
      "Requirement already satisfied: send2trash>=1.8.2 in /home/zw/miniconda3/envs/transformers/lib/python3.10/site-packages (from jupyter-server<3,>=2.4.0->jupyterlab<5,>=4->jupyterlab-execute-time) (1.8.3)\n",
      "Requirement already satisfied: terminado>=0.8.3 in /home/zw/miniconda3/envs/transformers/lib/python3.10/site-packages (from jupyter-server<3,>=2.4.0->jupyterlab<5,>=4->jupyterlab-execute-time) (0.18.1)\n",
      "Requirement already satisfied: websocket-client>=1.7 in /home/zw/miniconda3/envs/transformers/lib/python3.10/site-packages (from jupyter-server<3,>=2.4.0->jupyterlab<5,>=4->jupyterlab-execute-time) (1.8.0)\n",
      "Requirement already satisfied: babel>=2.10 in /home/zw/miniconda3/envs/transformers/lib/python3.10/site-packages (from jupyterlab-server<3,>=2.27.1->jupyterlab<5,>=4->jupyterlab-execute-time) (2.17.0)\n",
      "Requirement already satisfied: json5>=0.9.0 in /home/zw/miniconda3/envs/transformers/lib/python3.10/site-packages (from jupyterlab-server<3,>=2.27.1->jupyterlab<5,>=4->jupyterlab-execute-time) (0.12.0)\n",
      "Requirement already satisfied: jsonschema>=4.18.0 in /home/zw/miniconda3/envs/transformers/lib/python3.10/site-packages (from jupyterlab-server<3,>=2.27.1->jupyterlab<5,>=4->jupyterlab-execute-time) (4.25.0)\n",
      "Requirement already satisfied: requests>=2.31 in /home/zw/miniconda3/envs/transformers/lib/python3.10/site-packages (from jupyterlab-server<3,>=2.27.1->jupyterlab<5,>=4->jupyterlab-execute-time) (2.32.4)\n",
      "Requirement already satisfied: exceptiongroup>=1.0.2 in /home/zw/miniconda3/envs/transformers/lib/python3.10/site-packages (from anyio>=3.1.0->jupyter-server<3,>=2.4.0->jupyterlab<5,>=4->jupyterlab-execute-time) (1.3.0)\n",
      "Requirement already satisfied: idna>=2.8 in /home/zw/miniconda3/envs/transformers/lib/python3.10/site-packages (from anyio>=3.1.0->jupyter-server<3,>=2.4.0->jupyterlab<5,>=4->jupyterlab-execute-time) (3.10)\n",
      "Requirement already satisfied: sniffio>=1.1 in /home/zw/miniconda3/envs/transformers/lib/python3.10/site-packages (from anyio>=3.1.0->jupyter-server<3,>=2.4.0->jupyterlab<5,>=4->jupyterlab-execute-time) (1.3.1)\n",
      "Requirement already satisfied: typing_extensions>=4.5 in /home/zw/miniconda3/envs/transformers/lib/python3.10/site-packages (from anyio>=3.1.0->jupyter-server<3,>=2.4.0->jupyterlab<5,>=4->jupyterlab-execute-time) (4.12.2)\n",
      "Requirement already satisfied: argon2-cffi-bindings in /home/zw/miniconda3/envs/transformers/lib/python3.10/site-packages (from argon2-cffi>=21.1->jupyter-server<3,>=2.4.0->jupyterlab<5,>=4->jupyterlab-execute-time) (25.1.0)\n",
      "Requirement already satisfied: certifi in /home/zw/miniconda3/envs/transformers/lib/python3.10/site-packages (from httpx>=0.25.0->jupyterlab<5,>=4->jupyterlab-execute-time) (2025.7.14)\n",
      "Requirement already satisfied: httpcore==1.* in /home/zw/miniconda3/envs/transformers/lib/python3.10/site-packages (from httpx>=0.25.0->jupyterlab<5,>=4->jupyterlab-execute-time) (1.0.9)\n",
      "Requirement already satisfied: h11>=0.16 in /home/zw/miniconda3/envs/transformers/lib/python3.10/site-packages (from httpcore==1.*->httpx>=0.25.0->jupyterlab<5,>=4->jupyterlab-execute-time) (0.16.0)\n",
      "Requirement already satisfied: debugpy>=1.6.5 in /home/zw/miniconda3/envs/transformers/lib/python3.10/site-packages (from ipykernel>=6.5.0->jupyterlab<5,>=4->jupyterlab-execute-time) (1.8.11)\n",
      "Requirement already satisfied: matplotlib-inline>=0.1 in /home/zw/miniconda3/envs/transformers/lib/python3.10/site-packages (from ipykernel>=6.5.0->jupyterlab<5,>=4->jupyterlab-execute-time) (0.1.7)\n",
      "Requirement already satisfied: nest-asyncio>=1.4 in /home/zw/miniconda3/envs/transformers/lib/python3.10/site-packages (from ipykernel>=6.5.0->jupyterlab<5,>=4->jupyterlab-execute-time) (1.6.0)\n",
      "Requirement already satisfied: psutil>=5.7 in /home/zw/miniconda3/envs/transformers/lib/python3.10/site-packages (from ipykernel>=6.5.0->jupyterlab<5,>=4->jupyterlab-execute-time) (5.9.1)\n",
      "Requirement already satisfied: decorator in /home/zw/miniconda3/envs/transformers/lib/python3.10/site-packages (from ipython>=6.1.0->ipywidgets) (5.2.1)\n",
      "Requirement already satisfied: jedi>=0.16 in /home/zw/miniconda3/envs/transformers/lib/python3.10/site-packages (from ipython>=6.1.0->ipywidgets) (0.19.2)\n",
      "Requirement already satisfied: pexpect>4.3 in /home/zw/miniconda3/envs/transformers/lib/python3.10/site-packages (from ipython>=6.1.0->ipywidgets) (4.9.0)\n",
      "Requirement already satisfied: prompt_toolkit<3.1.0,>=3.0.41 in /home/zw/miniconda3/envs/transformers/lib/python3.10/site-packages (from ipython>=6.1.0->ipywidgets) (3.0.51)\n",
      "Requirement already satisfied: pygments>=2.4.0 in /home/zw/miniconda3/envs/transformers/lib/python3.10/site-packages (from ipython>=6.1.0->ipywidgets) (2.19.2)\n",
      "Requirement already satisfied: stack_data in /home/zw/miniconda3/envs/transformers/lib/python3.10/site-packages (from ipython>=6.1.0->ipywidgets) (0.6.3)\n",
      "Requirement already satisfied: wcwidth in /home/zw/miniconda3/envs/transformers/lib/python3.10/site-packages (from prompt_toolkit<3.1.0,>=3.0.41->ipython>=6.1.0->ipywidgets) (0.2.13)\n",
      "Requirement already satisfied: parso<0.9.0,>=0.8.4 in /home/zw/miniconda3/envs/transformers/lib/python3.10/site-packages (from jedi>=0.16->ipython>=6.1.0->ipywidgets) (0.8.4)\n",
      "Requirement already satisfied: MarkupSafe>=2.0 in /home/zw/miniconda3/envs/transformers/lib/python3.10/site-packages (from jinja2>=3.0.3->jupyterlab<5,>=4->jupyterlab-execute-time) (2.1.5)\n",
      "Requirement already satisfied: attrs>=22.2.0 in /home/zw/miniconda3/envs/transformers/lib/python3.10/site-packages (from jsonschema>=4.18.0->jupyterlab-server<3,>=2.27.1->jupyterlab<5,>=4->jupyterlab-execute-time) (25.3.0)\n",
      "Requirement already satisfied: jsonschema-specifications>=2023.03.6 in /home/zw/miniconda3/envs/transformers/lib/python3.10/site-packages (from jsonschema>=4.18.0->jupyterlab-server<3,>=2.27.1->jupyterlab<5,>=4->jupyterlab-execute-time) (2025.4.1)\n",
      "Requirement already satisfied: referencing>=0.28.4 in /home/zw/miniconda3/envs/transformers/lib/python3.10/site-packages (from jsonschema>=4.18.0->jupyterlab-server<3,>=2.27.1->jupyterlab<5,>=4->jupyterlab-execute-time) (0.36.2)\n",
      "Requirement already satisfied: rpds-py>=0.7.1 in /home/zw/miniconda3/envs/transformers/lib/python3.10/site-packages (from jsonschema>=4.18.0->jupyterlab-server<3,>=2.27.1->jupyterlab<5,>=4->jupyterlab-execute-time) (0.26.0)\n",
      "Requirement already satisfied: python-dateutil>=2.8.2 in /home/zw/miniconda3/envs/transformers/lib/python3.10/site-packages (from jupyter-client>=7.4.4->jupyter-server<3,>=2.4.0->jupyterlab<5,>=4->jupyterlab-execute-time) (2.9.0.post0)\n",
      "Requirement already satisfied: platformdirs>=2.5 in /home/zw/miniconda3/envs/transformers/lib/python3.10/site-packages (from jupyter-core->jupyterlab<5,>=4->jupyterlab-execute-time) (4.3.8)\n",
      "Requirement already satisfied: python-json-logger>=2.0.4 in /home/zw/miniconda3/envs/transformers/lib/python3.10/site-packages (from jupyter-events>=0.11.0->jupyter-server<3,>=2.4.0->jupyterlab<5,>=4->jupyterlab-execute-time) (3.3.0)\n",
      "Requirement already satisfied: pyyaml>=5.3 in /home/zw/miniconda3/envs/transformers/lib/python3.10/site-packages (from jupyter-events>=0.11.0->jupyter-server<3,>=2.4.0->jupyterlab<5,>=4->jupyterlab-execute-time) (6.0.2)\n",
      "Requirement already satisfied: rfc3339-validator in /home/zw/miniconda3/envs/transformers/lib/python3.10/site-packages (from jupyter-events>=0.11.0->jupyter-server<3,>=2.4.0->jupyterlab<5,>=4->jupyterlab-execute-time) (0.1.4)\n",
      "Requirement already satisfied: rfc3986-validator>=0.1.1 in /home/zw/miniconda3/envs/transformers/lib/python3.10/site-packages (from jupyter-events>=0.11.0->jupyter-server<3,>=2.4.0->jupyterlab<5,>=4->jupyterlab-execute-time) (0.1.1)\n",
      "Requirement already satisfied: fqdn in /home/zw/miniconda3/envs/transformers/lib/python3.10/site-packages (from jsonschema[format-nongpl]>=4.18.0->jupyter-events>=0.11.0->jupyter-server<3,>=2.4.0->jupyterlab<5,>=4->jupyterlab-execute-time) (1.5.1)\n",
      "Requirement already satisfied: isoduration in /home/zw/miniconda3/envs/transformers/lib/python3.10/site-packages (from jsonschema[format-nongpl]>=4.18.0->jupyter-events>=0.11.0->jupyter-server<3,>=2.4.0->jupyterlab<5,>=4->jupyterlab-execute-time) (20.11.0)\n",
      "Requirement already satisfied: jsonpointer>1.13 in /home/zw/miniconda3/envs/transformers/lib/python3.10/site-packages (from jsonschema[format-nongpl]>=4.18.0->jupyter-events>=0.11.0->jupyter-server<3,>=2.4.0->jupyterlab<5,>=4->jupyterlab-execute-time) (3.0.0)\n",
      "Requirement already satisfied: rfc3987-syntax>=1.1.0 in /home/zw/miniconda3/envs/transformers/lib/python3.10/site-packages (from jsonschema[format-nongpl]>=4.18.0->jupyter-events>=0.11.0->jupyter-server<3,>=2.4.0->jupyterlab<5,>=4->jupyterlab-execute-time) (1.1.0)\n",
      "Requirement already satisfied: uri-template in /home/zw/miniconda3/envs/transformers/lib/python3.10/site-packages (from jsonschema[format-nongpl]>=4.18.0->jupyter-events>=0.11.0->jupyter-server<3,>=2.4.0->jupyterlab<5,>=4->jupyterlab-execute-time) (1.3.0)\n",
      "Requirement already satisfied: webcolors>=24.6.0 in /home/zw/miniconda3/envs/transformers/lib/python3.10/site-packages (from jsonschema[format-nongpl]>=4.18.0->jupyter-events>=0.11.0->jupyter-server<3,>=2.4.0->jupyterlab<5,>=4->jupyterlab-execute-time) (24.11.1)\n",
      "Requirement already satisfied: beautifulsoup4 in /home/zw/miniconda3/envs/transformers/lib/python3.10/site-packages (from nbconvert>=6.4.4->jupyter-server<3,>=2.4.0->jupyterlab<5,>=4->jupyterlab-execute-time) (4.13.4)\n",
      "Requirement already satisfied: bleach!=5.0.0 in /home/zw/miniconda3/envs/transformers/lib/python3.10/site-packages (from bleach[css]!=5.0.0->nbconvert>=6.4.4->jupyter-server<3,>=2.4.0->jupyterlab<5,>=4->jupyterlab-execute-time) (6.2.0)\n",
      "Requirement already satisfied: defusedxml in /home/zw/miniconda3/envs/transformers/lib/python3.10/site-packages (from nbconvert>=6.4.4->jupyter-server<3,>=2.4.0->jupyterlab<5,>=4->jupyterlab-execute-time) (0.7.1)\n",
      "Requirement already satisfied: jupyterlab-pygments in /home/zw/miniconda3/envs/transformers/lib/python3.10/site-packages (from nbconvert>=6.4.4->jupyter-server<3,>=2.4.0->jupyterlab<5,>=4->jupyterlab-execute-time) (0.3.0)\n",
      "Requirement already satisfied: mistune<4,>=2.0.3 in /home/zw/miniconda3/envs/transformers/lib/python3.10/site-packages (from nbconvert>=6.4.4->jupyter-server<3,>=2.4.0->jupyterlab<5,>=4->jupyterlab-execute-time) (3.1.3)\n",
      "Requirement already satisfied: nbclient>=0.5.0 in /home/zw/miniconda3/envs/transformers/lib/python3.10/site-packages (from nbconvert>=6.4.4->jupyter-server<3,>=2.4.0->jupyterlab<5,>=4->jupyterlab-execute-time) (0.10.2)\n",
      "Requirement already satisfied: pandocfilters>=1.4.1 in /home/zw/miniconda3/envs/transformers/lib/python3.10/site-packages (from nbconvert>=6.4.4->jupyter-server<3,>=2.4.0->jupyterlab<5,>=4->jupyterlab-execute-time) (1.5.1)\n",
      "Requirement already satisfied: webencodings in /home/zw/miniconda3/envs/transformers/lib/python3.10/site-packages (from bleach!=5.0.0->bleach[css]!=5.0.0->nbconvert>=6.4.4->jupyter-server<3,>=2.4.0->jupyterlab<5,>=4->jupyterlab-execute-time) (0.5.1)\n",
      "Requirement already satisfied: tinycss2<1.5,>=1.1.0 in /home/zw/miniconda3/envs/transformers/lib/python3.10/site-packages (from bleach[css]!=5.0.0->nbconvert>=6.4.4->jupyter-server<3,>=2.4.0->jupyterlab<5,>=4->jupyterlab-execute-time) (1.4.0)\n",
      "Requirement already satisfied: fastjsonschema>=2.15 in /home/zw/miniconda3/envs/transformers/lib/python3.10/site-packages (from nbformat>=5.3.0->jupyter-server<3,>=2.4.0->jupyterlab<5,>=4->jupyterlab-execute-time) (2.21.1)\n",
      "Requirement already satisfied: ptyprocess>=0.5 in /home/zw/miniconda3/envs/transformers/lib/python3.10/site-packages (from pexpect>4.3->ipython>=6.1.0->ipywidgets) (0.7.0)\n",
      "Requirement already satisfied: six>=1.5 in /home/zw/miniconda3/envs/transformers/lib/python3.10/site-packages (from python-dateutil>=2.8.2->jupyter-client>=7.4.4->jupyter-server<3,>=2.4.0->jupyterlab<5,>=4->jupyterlab-execute-time) (1.17.0)\n",
      "Requirement already satisfied: charset_normalizer<4,>=2 in /home/zw/miniconda3/envs/transformers/lib/python3.10/site-packages (from requests>=2.31->jupyterlab-server<3,>=2.27.1->jupyterlab<5,>=4->jupyterlab-execute-time) (3.4.2)\n",
      "Requirement already satisfied: urllib3<3,>=1.21.1 in /home/zw/miniconda3/envs/transformers/lib/python3.10/site-packages (from requests>=2.31->jupyterlab-server<3,>=2.27.1->jupyterlab<5,>=4->jupyterlab-execute-time) (2.5.0)\n",
      "Requirement already satisfied: lark>=1.2.2 in /home/zw/miniconda3/envs/transformers/lib/python3.10/site-packages (from rfc3987-syntax>=1.1.0->jsonschema[format-nongpl]>=4.18.0->jupyter-events>=0.11.0->jupyter-server<3,>=2.4.0->jupyterlab<5,>=4->jupyterlab-execute-time) (1.2.2)\n",
      "Requirement already satisfied: cffi>=1.0.1 in /home/zw/miniconda3/envs/transformers/lib/python3.10/site-packages (from argon2-cffi-bindings->argon2-cffi>=21.1->jupyter-server<3,>=2.4.0->jupyterlab<5,>=4->jupyterlab-execute-time) (1.17.1)\n",
      "Requirement already satisfied: pycparser in /home/zw/miniconda3/envs/transformers/lib/python3.10/site-packages (from cffi>=1.0.1->argon2-cffi-bindings->argon2-cffi>=21.1->jupyter-server<3,>=2.4.0->jupyterlab<5,>=4->jupyterlab-execute-time) (2.22)\n",
      "Requirement already satisfied: soupsieve>1.2 in /home/zw/miniconda3/envs/transformers/lib/python3.10/site-packages (from beautifulsoup4->nbconvert>=6.4.4->jupyter-server<3,>=2.4.0->jupyterlab<5,>=4->jupyterlab-execute-time) (2.7)\n",
      "Requirement already satisfied: arrow>=0.15.0 in /home/zw/miniconda3/envs/transformers/lib/python3.10/site-packages (from isoduration->jsonschema[format-nongpl]>=4.18.0->jupyter-events>=0.11.0->jupyter-server<3,>=2.4.0->jupyterlab<5,>=4->jupyterlab-execute-time) (1.3.0)\n",
      "Requirement already satisfied: types-python-dateutil>=2.8.10 in /home/zw/miniconda3/envs/transformers/lib/python3.10/site-packages (from arrow>=0.15.0->isoduration->jsonschema[format-nongpl]>=4.18.0->jupyter-events>=0.11.0->jupyter-server<3,>=2.4.0->jupyterlab<5,>=4->jupyterlab-execute-time) (2.9.0.20250708)\n",
      "Requirement already satisfied: executing>=1.2.0 in /home/zw/miniconda3/envs/transformers/lib/python3.10/site-packages (from stack_data->ipython>=6.1.0->ipywidgets) (2.2.0)\n",
      "Requirement already satisfied: asttokens>=2.1.0 in /home/zw/miniconda3/envs/transformers/lib/python3.10/site-packages (from stack_data->ipython>=6.1.0->ipywidgets) (3.0.0)\n",
      "Requirement already satisfied: pure_eval in /home/zw/miniconda3/envs/transformers/lib/python3.10/site-packages (from stack_data->ipython>=6.1.0->ipywidgets) (0.2.3)\n"
     ]
    }
   ],
   "source": [
    "# 安装JupyterLab 插件\n",
    "!pip install ipywidgets jupyterlab-execute-time -i https://mirrors.ustc.edu.cn/pypi/simple"
   ]
  },
  {
   "cell_type": "code",
   "execution_count": 13,
   "id": "5e9ec0ce-a588-4158-9217-e9071c17d6a9",
   "metadata": {
    "collapsed": true,
    "execution": {
     "iopub.execute_input": "2025-08-02T18:44:21.895210Z",
     "iopub.status.busy": "2025-08-02T18:44:21.895093Z",
     "iopub.status.idle": "2025-08-02T18:44:22.714987Z",
     "shell.execute_reply": "2025-08-02T18:44:22.714333Z",
     "shell.execute_reply.started": "2025-08-02T18:44:21.895196Z"
    },
    "jupyter": {
     "outputs_hidden": true,
     "source_hidden": true
    }
   },
   "outputs": [
    {
     "name": "stdout",
     "output_type": "stream",
     "text": [
      "Looking in indexes: https://download.pytorch.org/whl/cpu\n",
      "Requirement already satisfied: torch in /home/zw/miniconda3/envs/transformers/lib/python3.10/site-packages (2.7.1+cpu)\n",
      "Requirement already satisfied: torchvision in /home/zw/miniconda3/envs/transformers/lib/python3.10/site-packages (0.22.1+cpu)\n",
      "Requirement already satisfied: torchaudio in /home/zw/miniconda3/envs/transformers/lib/python3.10/site-packages (2.7.1+cpu)\n",
      "Requirement already satisfied: filelock in /home/zw/miniconda3/envs/transformers/lib/python3.10/site-packages (from torch) (3.13.1)\n",
      "Requirement already satisfied: typing-extensions>=4.10.0 in /home/zw/miniconda3/envs/transformers/lib/python3.10/site-packages (from torch) (4.12.2)\n",
      "Requirement already satisfied: sympy>=1.13.3 in /home/zw/miniconda3/envs/transformers/lib/python3.10/site-packages (from torch) (1.13.3)\n",
      "Requirement already satisfied: networkx in /home/zw/miniconda3/envs/transformers/lib/python3.10/site-packages (from torch) (3.3)\n",
      "Requirement already satisfied: jinja2 in /home/zw/miniconda3/envs/transformers/lib/python3.10/site-packages (from torch) (3.1.4)\n",
      "Requirement already satisfied: fsspec in /home/zw/miniconda3/envs/transformers/lib/python3.10/site-packages (from torch) (2024.6.1)\n",
      "Requirement already satisfied: numpy in /home/zw/miniconda3/envs/transformers/lib/python3.10/site-packages (from torchvision) (2.1.2)\n",
      "Requirement already satisfied: pillow!=8.3.*,>=5.3.0 in /home/zw/miniconda3/envs/transformers/lib/python3.10/site-packages (from torchvision) (11.0.0)\n",
      "Requirement already satisfied: mpmath<1.4,>=1.1.0 in /home/zw/miniconda3/envs/transformers/lib/python3.10/site-packages (from sympy>=1.13.3->torch) (1.3.0)\n",
      "Requirement already satisfied: MarkupSafe>=2.0 in /home/zw/miniconda3/envs/transformers/lib/python3.10/site-packages (from jinja2->torch) (2.1.5)\n"
     ]
    }
   ],
   "source": [
    "# 安装机器学习框架 torch\n",
    "!pip install torch torchvision torchaudio --index-url https://download.pytorch.org/whl/cpu"
   ]
  },
  {
   "cell_type": "code",
   "execution_count": 14,
   "id": "c505f6d0-f699-4da1-80d6-348d32123c88",
   "metadata": {
    "collapsed": true,
    "execution": {
     "iopub.execute_input": "2025-08-02T18:44:30.027326Z",
     "iopub.status.busy": "2025-08-02T18:44:30.027151Z",
     "iopub.status.idle": "2025-08-02T18:44:32.023564Z",
     "shell.execute_reply": "2025-08-02T18:44:32.022868Z",
     "shell.execute_reply.started": "2025-08-02T18:44:30.027298Z"
    },
    "jupyter": {
     "outputs_hidden": true,
     "source_hidden": true
    },
    "scrolled": true
   },
   "outputs": [
    {
     "name": "stdout",
     "output_type": "stream",
     "text": [
      "Looking in indexes: https://mirrors.ustc.edu.cn/pypi/simple\n",
      "Requirement already satisfied: transformers in /home/zw/miniconda3/envs/transformers/lib/python3.10/site-packages (4.55.0.dev0)\n",
      "Requirement already satisfied: filelock in /home/zw/miniconda3/envs/transformers/lib/python3.10/site-packages (from transformers) (3.13.1)\n",
      "Requirement already satisfied: huggingface-hub<1.0,>=0.34.0 in /home/zw/miniconda3/envs/transformers/lib/python3.10/site-packages (from transformers) (0.34.3)\n",
      "Requirement already satisfied: numpy>=1.17 in /home/zw/miniconda3/envs/transformers/lib/python3.10/site-packages (from transformers) (2.1.2)\n",
      "Requirement already satisfied: packaging>=20.0 in /home/zw/miniconda3/envs/transformers/lib/python3.10/site-packages (from transformers) (25.0)\n",
      "Requirement already satisfied: pyyaml>=5.1 in /home/zw/miniconda3/envs/transformers/lib/python3.10/site-packages (from transformers) (6.0.2)\n",
      "Requirement already satisfied: regex!=2019.12.17 in /home/zw/miniconda3/envs/transformers/lib/python3.10/site-packages (from transformers) (2025.7.34)\n",
      "Requirement already satisfied: requests in /home/zw/miniconda3/envs/transformers/lib/python3.10/site-packages (from transformers) (2.32.4)\n",
      "Requirement already satisfied: tokenizers<0.22,>=0.21 in /home/zw/miniconda3/envs/transformers/lib/python3.10/site-packages (from transformers) (0.21.4)\n",
      "Requirement already satisfied: safetensors>=0.4.3 in /home/zw/miniconda3/envs/transformers/lib/python3.10/site-packages (from transformers) (0.5.3)\n",
      "Requirement already satisfied: tqdm>=4.27 in /home/zw/miniconda3/envs/transformers/lib/python3.10/site-packages (from transformers) (4.67.1)\n",
      "Requirement already satisfied: fsspec>=2023.5.0 in /home/zw/miniconda3/envs/transformers/lib/python3.10/site-packages (from huggingface-hub<1.0,>=0.34.0->transformers) (2024.6.1)\n",
      "Requirement already satisfied: typing-extensions>=3.7.4.3 in /home/zw/miniconda3/envs/transformers/lib/python3.10/site-packages (from huggingface-hub<1.0,>=0.34.0->transformers) (4.12.2)\n",
      "Requirement already satisfied: hf-xet<2.0.0,>=1.1.3 in /home/zw/miniconda3/envs/transformers/lib/python3.10/site-packages (from huggingface-hub<1.0,>=0.34.0->transformers) (1.1.5)\n",
      "Requirement already satisfied: charset_normalizer<4,>=2 in /home/zw/miniconda3/envs/transformers/lib/python3.10/site-packages (from requests->transformers) (3.4.2)\n",
      "Requirement already satisfied: idna<4,>=2.5 in /home/zw/miniconda3/envs/transformers/lib/python3.10/site-packages (from requests->transformers) (3.10)\n",
      "Requirement already satisfied: urllib3<3,>=1.21.1 in /home/zw/miniconda3/envs/transformers/lib/python3.10/site-packages (from requests->transformers) (2.5.0)\n",
      "Requirement already satisfied: certifi>=2017.4.17 in /home/zw/miniconda3/envs/transformers/lib/python3.10/site-packages (from requests->transformers) (2025.7.14)\n",
      "Looking in indexes: https://mirrors.ustc.edu.cn/pypi/simple\n",
      "Requirement already satisfied: datasets in /home/zw/miniconda3/envs/transformers/lib/python3.10/site-packages (4.0.0)\n",
      "Requirement already satisfied: evaluate in /home/zw/miniconda3/envs/transformers/lib/python3.10/site-packages (0.4.5)\n",
      "Requirement already satisfied: accelerate in /home/zw/miniconda3/envs/transformers/lib/python3.10/site-packages (1.9.0)\n",
      "Requirement already satisfied: timm in /home/zw/miniconda3/envs/transformers/lib/python3.10/site-packages (1.0.19)\n",
      "Requirement already satisfied: filelock in /home/zw/miniconda3/envs/transformers/lib/python3.10/site-packages (from datasets) (3.13.1)\n",
      "Requirement already satisfied: numpy>=1.17 in /home/zw/miniconda3/envs/transformers/lib/python3.10/site-packages (from datasets) (2.1.2)\n",
      "Requirement already satisfied: pyarrow>=15.0.0 in /home/zw/miniconda3/envs/transformers/lib/python3.10/site-packages (from datasets) (21.0.0)\n",
      "Requirement already satisfied: dill<0.3.9,>=0.3.0 in /home/zw/miniconda3/envs/transformers/lib/python3.10/site-packages (from datasets) (0.3.8)\n",
      "Requirement already satisfied: pandas in /home/zw/miniconda3/envs/transformers/lib/python3.10/site-packages (from datasets) (2.3.1)\n",
      "Requirement already satisfied: requests>=2.32.2 in /home/zw/miniconda3/envs/transformers/lib/python3.10/site-packages (from datasets) (2.32.4)\n",
      "Requirement already satisfied: tqdm>=4.66.3 in /home/zw/miniconda3/envs/transformers/lib/python3.10/site-packages (from datasets) (4.67.1)\n",
      "Requirement already satisfied: xxhash in /home/zw/miniconda3/envs/transformers/lib/python3.10/site-packages (from datasets) (3.5.0)\n",
      "Requirement already satisfied: multiprocess<0.70.17 in /home/zw/miniconda3/envs/transformers/lib/python3.10/site-packages (from datasets) (0.70.16)\n",
      "Requirement already satisfied: fsspec<=2025.3.0,>=2023.1.0 in /home/zw/miniconda3/envs/transformers/lib/python3.10/site-packages (from fsspec[http]<=2025.3.0,>=2023.1.0->datasets) (2024.6.1)\n",
      "Requirement already satisfied: huggingface-hub>=0.24.0 in /home/zw/miniconda3/envs/transformers/lib/python3.10/site-packages (from datasets) (0.34.3)\n",
      "Requirement already satisfied: packaging in /home/zw/miniconda3/envs/transformers/lib/python3.10/site-packages (from datasets) (25.0)\n",
      "Requirement already satisfied: pyyaml>=5.1 in /home/zw/miniconda3/envs/transformers/lib/python3.10/site-packages (from datasets) (6.0.2)\n",
      "Requirement already satisfied: aiohttp!=4.0.0a0,!=4.0.0a1 in /home/zw/miniconda3/envs/transformers/lib/python3.10/site-packages (from fsspec[http]<=2025.3.0,>=2023.1.0->datasets) (3.12.15)\n",
      "Requirement already satisfied: psutil in /home/zw/miniconda3/envs/transformers/lib/python3.10/site-packages (from accelerate) (5.9.1)\n",
      "Requirement already satisfied: torch>=2.0.0 in /home/zw/miniconda3/envs/transformers/lib/python3.10/site-packages (from accelerate) (2.7.1+cpu)\n",
      "Requirement already satisfied: safetensors>=0.4.3 in /home/zw/miniconda3/envs/transformers/lib/python3.10/site-packages (from accelerate) (0.5.3)\n",
      "Requirement already satisfied: torchvision in /home/zw/miniconda3/envs/transformers/lib/python3.10/site-packages (from timm) (0.22.1+cpu)\n",
      "Requirement already satisfied: aiohappyeyeballs>=2.5.0 in /home/zw/miniconda3/envs/transformers/lib/python3.10/site-packages (from aiohttp!=4.0.0a0,!=4.0.0a1->fsspec[http]<=2025.3.0,>=2023.1.0->datasets) (2.6.1)\n",
      "Requirement already satisfied: aiosignal>=1.4.0 in /home/zw/miniconda3/envs/transformers/lib/python3.10/site-packages (from aiohttp!=4.0.0a0,!=4.0.0a1->fsspec[http]<=2025.3.0,>=2023.1.0->datasets) (1.4.0)\n",
      "Requirement already satisfied: async-timeout<6.0,>=4.0 in /home/zw/miniconda3/envs/transformers/lib/python3.10/site-packages (from aiohttp!=4.0.0a0,!=4.0.0a1->fsspec[http]<=2025.3.0,>=2023.1.0->datasets) (5.0.1)\n",
      "Requirement already satisfied: attrs>=17.3.0 in /home/zw/miniconda3/envs/transformers/lib/python3.10/site-packages (from aiohttp!=4.0.0a0,!=4.0.0a1->fsspec[http]<=2025.3.0,>=2023.1.0->datasets) (25.3.0)\n",
      "Requirement already satisfied: frozenlist>=1.1.1 in /home/zw/miniconda3/envs/transformers/lib/python3.10/site-packages (from aiohttp!=4.0.0a0,!=4.0.0a1->fsspec[http]<=2025.3.0,>=2023.1.0->datasets) (1.7.0)\n",
      "Requirement already satisfied: multidict<7.0,>=4.5 in /home/zw/miniconda3/envs/transformers/lib/python3.10/site-packages (from aiohttp!=4.0.0a0,!=4.0.0a1->fsspec[http]<=2025.3.0,>=2023.1.0->datasets) (6.6.3)\n",
      "Requirement already satisfied: propcache>=0.2.0 in /home/zw/miniconda3/envs/transformers/lib/python3.10/site-packages (from aiohttp!=4.0.0a0,!=4.0.0a1->fsspec[http]<=2025.3.0,>=2023.1.0->datasets) (0.3.2)\n",
      "Requirement already satisfied: yarl<2.0,>=1.17.0 in /home/zw/miniconda3/envs/transformers/lib/python3.10/site-packages (from aiohttp!=4.0.0a0,!=4.0.0a1->fsspec[http]<=2025.3.0,>=2023.1.0->datasets) (1.20.1)\n",
      "Requirement already satisfied: typing-extensions>=4.1.0 in /home/zw/miniconda3/envs/transformers/lib/python3.10/site-packages (from multidict<7.0,>=4.5->aiohttp!=4.0.0a0,!=4.0.0a1->fsspec[http]<=2025.3.0,>=2023.1.0->datasets) (4.12.2)\n",
      "Requirement already satisfied: idna>=2.0 in /home/zw/miniconda3/envs/transformers/lib/python3.10/site-packages (from yarl<2.0,>=1.17.0->aiohttp!=4.0.0a0,!=4.0.0a1->fsspec[http]<=2025.3.0,>=2023.1.0->datasets) (3.10)\n",
      "Requirement already satisfied: hf-xet<2.0.0,>=1.1.3 in /home/zw/miniconda3/envs/transformers/lib/python3.10/site-packages (from huggingface-hub>=0.24.0->datasets) (1.1.5)\n",
      "Requirement already satisfied: charset_normalizer<4,>=2 in /home/zw/miniconda3/envs/transformers/lib/python3.10/site-packages (from requests>=2.32.2->datasets) (3.4.2)\n",
      "Requirement already satisfied: urllib3<3,>=1.21.1 in /home/zw/miniconda3/envs/transformers/lib/python3.10/site-packages (from requests>=2.32.2->datasets) (2.5.0)\n",
      "Requirement already satisfied: certifi>=2017.4.17 in /home/zw/miniconda3/envs/transformers/lib/python3.10/site-packages (from requests>=2.32.2->datasets) (2025.7.14)\n",
      "Requirement already satisfied: sympy>=1.13.3 in /home/zw/miniconda3/envs/transformers/lib/python3.10/site-packages (from torch>=2.0.0->accelerate) (1.13.3)\n",
      "Requirement already satisfied: networkx in /home/zw/miniconda3/envs/transformers/lib/python3.10/site-packages (from torch>=2.0.0->accelerate) (3.3)\n",
      "Requirement already satisfied: jinja2 in /home/zw/miniconda3/envs/transformers/lib/python3.10/site-packages (from torch>=2.0.0->accelerate) (3.1.4)\n",
      "Requirement already satisfied: mpmath<1.4,>=1.1.0 in /home/zw/miniconda3/envs/transformers/lib/python3.10/site-packages (from sympy>=1.13.3->torch>=2.0.0->accelerate) (1.3.0)\n",
      "Requirement already satisfied: MarkupSafe>=2.0 in /home/zw/miniconda3/envs/transformers/lib/python3.10/site-packages (from jinja2->torch>=2.0.0->accelerate) (2.1.5)\n",
      "Requirement already satisfied: python-dateutil>=2.8.2 in /home/zw/miniconda3/envs/transformers/lib/python3.10/site-packages (from pandas->datasets) (2.9.0.post0)\n",
      "Requirement already satisfied: pytz>=2020.1 in /home/zw/miniconda3/envs/transformers/lib/python3.10/site-packages (from pandas->datasets) (2025.2)\n",
      "Requirement already satisfied: tzdata>=2022.7 in /home/zw/miniconda3/envs/transformers/lib/python3.10/site-packages (from pandas->datasets) (2025.2)\n",
      "Requirement already satisfied: six>=1.5 in /home/zw/miniconda3/envs/transformers/lib/python3.10/site-packages (from python-dateutil>=2.8.2->pandas->datasets) (1.17.0)\n",
      "Requirement already satisfied: pillow!=8.3.*,>=5.3.0 in /home/zw/miniconda3/envs/transformers/lib/python3.10/site-packages (from torchvision->timm) (11.0.0)\n"
     ]
    }
   ],
   "source": [
    "# 安装 Transformers\n",
    "!pip install transformers --index-url https://mirrors.ustc.edu.cn/pypi/simple\n",
    "!pip install -U  datasets evaluate accelerate timm -i https://mirrors.ustc.edu.cn/pypi/simple"
   ]
  },
  {
   "cell_type": "code",
   "execution_count": 15,
   "id": "87ffe489-dda9-482b-8354-9b22b75299ac",
   "metadata": {
    "collapsed": true,
    "execution": {
     "iopub.execute_input": "2025-08-02T18:45:04.709685Z",
     "iopub.status.busy": "2025-08-02T18:45:04.709516Z",
     "iopub.status.idle": "2025-08-02T18:45:08.400126Z",
     "shell.execute_reply": "2025-08-02T18:45:08.399458Z",
     "shell.execute_reply.started": "2025-08-02T18:45:04.709669Z"
    },
    "jupyter": {
     "outputs_hidden": true,
     "source_hidden": true
    }
   },
   "outputs": [
    {
     "name": "stdout",
     "output_type": "stream",
     "text": [
      "No model was supplied, defaulted to distilbert/distilbert-base-uncased-finetuned-sst-2-english and revision 714eb0f (https://hf-mirror.com/distilbert/distilbert-base-uncased-finetuned-sst-2-english).\n",
      "Using a pipeline without specifying a model name and revision in production is not recommended.\n",
      "Device set to use cpu\n",
      "[{'label': 'POSITIVE', 'score': 0.999839186668396}]\n"
     ]
    }
   ],
   "source": [
    "# 验证 Transformers 安装\n",
    "!HF_ENDPOINT=https://hf-mirror.com python -c \"from transformers import pipeline; print(pipeline('sentiment-analysis')('hugging face is the best'))\""
   ]
  },
  {
   "cell_type": "code",
   "execution_count": 16,
   "id": "dad73dc9-1b53-4a9f-beca-eb6abba05623",
   "metadata": {
    "collapsed": true,
    "execution": {
     "iopub.execute_input": "2025-08-02T18:45:15.391690Z",
     "iopub.status.busy": "2025-08-02T18:45:15.391545Z",
     "iopub.status.idle": "2025-08-02T18:45:16.219132Z",
     "shell.execute_reply": "2025-08-02T18:45:16.218468Z",
     "shell.execute_reply.started": "2025-08-02T18:45:15.391675Z"
    },
    "jupyter": {
     "outputs_hidden": true,
     "source_hidden": true
    }
   },
   "outputs": [
    {
     "name": "stdout",
     "output_type": "stream",
     "text": [
      "Looking in indexes: https://mirrors.ustc.edu.cn/pypi/simple\n",
      "Requirement already satisfied: qwen_vl_utils in /home/zw/miniconda3/envs/transformers/lib/python3.10/site-packages (0.0.11)\n",
      "Requirement already satisfied: av in /home/zw/miniconda3/envs/transformers/lib/python3.10/site-packages (from qwen_vl_utils) (15.0.0)\n",
      "Requirement already satisfied: packaging in /home/zw/miniconda3/envs/transformers/lib/python3.10/site-packages (from qwen_vl_utils) (25.0)\n",
      "Requirement already satisfied: pillow in /home/zw/miniconda3/envs/transformers/lib/python3.10/site-packages (from qwen_vl_utils) (11.0.0)\n",
      "Requirement already satisfied: requests in /home/zw/miniconda3/envs/transformers/lib/python3.10/site-packages (from qwen_vl_utils) (2.32.4)\n",
      "Requirement already satisfied: charset_normalizer<4,>=2 in /home/zw/miniconda3/envs/transformers/lib/python3.10/site-packages (from requests->qwen_vl_utils) (3.4.2)\n",
      "Requirement already satisfied: idna<4,>=2.5 in /home/zw/miniconda3/envs/transformers/lib/python3.10/site-packages (from requests->qwen_vl_utils) (3.10)\n",
      "Requirement already satisfied: urllib3<3,>=1.21.1 in /home/zw/miniconda3/envs/transformers/lib/python3.10/site-packages (from requests->qwen_vl_utils) (2.5.0)\n",
      "Requirement already satisfied: certifi>=2017.4.17 in /home/zw/miniconda3/envs/transformers/lib/python3.10/site-packages (from requests->qwen_vl_utils) (2025.7.14)\n"
     ]
    }
   ],
   "source": [
    "# 安装 QwenVL 预处理功能库\n",
    "!pip install qwen_vl_utils -i https://mirrors.ustc.edu.cn/pypi/simple"
   ]
  },
  {
   "cell_type": "code",
   "execution_count": 1,
   "id": "a065a0da-a0f6-4643-917f-b88cc4d1fc62",
   "metadata": {
    "execution": {
     "iopub.execute_input": "2025-08-02T19:35:31.214959Z",
     "iopub.status.busy": "2025-08-02T19:35:31.214829Z",
     "iopub.status.idle": "2025-08-02T19:35:33.604146Z",
     "shell.execute_reply": "2025-08-02T19:35:33.603428Z",
     "shell.execute_reply.started": "2025-08-02T19:35:31.214946Z"
    }
   },
   "outputs": [],
   "source": [
    "from transformers import Qwen2_5_VLForConditionalGeneration, AutoProcessor\n",
    "from qwen_vl_utils import process_vision_info"
   ]
  },
  {
   "cell_type": "code",
   "execution_count": 2,
   "id": "65643881-1dc0-443c-b76f-727077574273",
   "metadata": {
    "execution": {
     "iopub.execute_input": "2025-08-02T19:35:34.444400Z",
     "iopub.status.busy": "2025-08-02T19:35:34.444214Z",
     "iopub.status.idle": "2025-08-02T19:35:46.040050Z",
     "shell.execute_reply": "2025-08-02T19:35:46.039439Z",
     "shell.execute_reply.started": "2025-08-02T19:35:34.444383Z"
    }
   },
   "outputs": [
    {
     "data": {
      "application/vnd.jupyter.widget-view+json": {
       "model_id": "2e1d3dbd4b2c42b5b8b5b55fd0b80c96",
       "version_major": 2,
       "version_minor": 0
      },
      "text/plain": [
       "Loading checkpoint shards:   0%|          | 0/2 [00:00<?, ?it/s]"
      ]
     },
     "metadata": {},
     "output_type": "display_data"
    }
   ],
   "source": [
    "# default: Load the model on the available device(s)\n",
    "model = Qwen2_5_VLForConditionalGeneration.from_pretrained(\n",
    "    \"Qwen/Qwen2.5-VL-3B-Instruct\", torch_dtype=\"float16\", device_map=\"auto\", local_files_only=True\n",
    ")"
   ]
  },
  {
   "cell_type": "code",
   "execution_count": 3,
   "id": "092c5f67-3e38-4067-8ff8-9eee8a5d4fd9",
   "metadata": {
    "execution": {
     "iopub.execute_input": "2025-08-02T19:35:51.212604Z",
     "iopub.status.busy": "2025-08-02T19:35:51.212450Z",
     "iopub.status.idle": "2025-08-02T19:36:12.123874Z",
     "shell.execute_reply": "2025-08-02T19:36:12.123210Z",
     "shell.execute_reply.started": "2025-08-02T19:35:51.212591Z"
    }
   },
   "outputs": [
    {
     "name": "stderr",
     "output_type": "stream",
     "text": [
      "The image processor of type `Qwen2VLImageProcessor` is now loaded as a fast processor by default, even if the model checkpoint was saved with a slow processor. This is a breaking change and may produce slightly different outputs. To continue using the slow processor, instantiate this class with `use_fast=False`. Note that this behavior will be extended to all models in a future release.\n",
      "You have video processor config saved in `preprocessor.json` file which is deprecated. Video processor configs should be saved in their own `video_preprocessor.json` file. You can rename the file or load and save the processor back which renames it automatically. Loading from `preprocessor.json` will be removed in v5.0.\n"
     ]
    }
   ],
   "source": [
    "# We recommend enabling flash_attention_2 for better acceleration and memory saving, especially in multi-image and video scenarios.\n",
    "# model = Qwen2_5_VLForConditionalGeneration.from_pretrained(\n",
    "#     \"Qwen/Qwen2.5-VL-7B-Instruct\",\n",
    "#     torch_dtype=torch.bfloat16,\n",
    "#     attn_implementation=\"flash_attention_2\",\n",
    "#     device_map=\"auto\",\n",
    "# )\n",
    "\n",
    "# default processor\n",
    "processor = AutoProcessor.from_pretrained(\"Qwen/Qwen2.5-VL-3B-Instruct\", local_files_only=True)\n"
   ]
  },
  {
   "cell_type": "code",
   "execution_count": 4,
   "id": "cf006287-db90-4238-93d3-f56811f2a9c9",
   "metadata": {
    "execution": {
     "iopub.execute_input": "2025-08-02T19:36:17.695452Z",
     "iopub.status.busy": "2025-08-02T19:36:17.695247Z",
     "iopub.status.idle": "2025-08-02T19:36:17.698284Z",
     "shell.execute_reply": "2025-08-02T19:36:17.697785Z",
     "shell.execute_reply.started": "2025-08-02T19:36:17.695436Z"
    }
   },
   "outputs": [],
   "source": [
    "# The default range for the number of visual tokens per image in the model is 4-16384.\n",
    "# You can set min_pixels and max_pixels according to your needs, such as a token range of 256-1280, to balance performance and cost.\n",
    "# min_pixels = 256*28*28\n",
    "# max_pixels = 1280*28*28\n",
    "# processor = AutoProcessor.from_pretrained(\"Qwen/Qwen2.5-VL-7B-Instruct\", min_pixels=min_pixels, max_pixels=max_pixels)\n",
    "\n",
    "messages = [\n",
    "    {\n",
    "        \"role\": \"user\",\n",
    "        \"content\": [\n",
    "            {\n",
    "                \"type\": \"image\",\n",
    "                \"image\": \"https://qianwen-res.oss-cn-beijing.aliyuncs.com/Qwen-VL/assets/demo.jpeg\",\n",
    "            },\n",
    "            {\"type\": \"text\", \"text\": \"Describe this image.\"},\n",
    "        ],\n",
    "    }\n",
    "]"
   ]
  },
  {
   "cell_type": "code",
   "execution_count": 5,
   "id": "5b2ef9e8-034b-46a7-991c-52a0f1847ded",
   "metadata": {
    "execution": {
     "iopub.execute_input": "2025-08-02T19:36:23.709049Z",
     "iopub.status.busy": "2025-08-02T19:36:23.708803Z",
     "iopub.status.idle": "2025-08-02T19:36:23.717718Z",
     "shell.execute_reply": "2025-08-02T19:36:23.717066Z",
     "shell.execute_reply.started": "2025-08-02T19:36:23.709031Z"
    }
   },
   "outputs": [],
   "source": [
    "# Preparation for inference\n",
    "text = processor.apply_chat_template(\n",
    "    messages, tokenize=False, add_generation_prompt=True\n",
    ")"
   ]
  },
  {
   "cell_type": "code",
   "execution_count": 6,
   "id": "aa827509-e915-4f9f-8784-9d640942c94b",
   "metadata": {
    "execution": {
     "iopub.execute_input": "2025-08-02T19:36:27.179019Z",
     "iopub.status.busy": "2025-08-02T19:36:27.178868Z",
     "iopub.status.idle": "2025-08-02T19:36:27.555535Z",
     "shell.execute_reply": "2025-08-02T19:36:27.555025Z",
     "shell.execute_reply.started": "2025-08-02T19:36:27.179006Z"
    }
   },
   "outputs": [],
   "source": [
    "image_inputs, video_inputs = process_vision_info(messages)"
   ]
  },
  {
   "cell_type": "code",
   "execution_count": 7,
   "id": "4f6bb634-df44-499c-bfaf-f881c735c55f",
   "metadata": {
    "execution": {
     "iopub.execute_input": "2025-08-02T19:36:32.045243Z",
     "iopub.status.busy": "2025-08-02T19:36:32.045052Z",
     "iopub.status.idle": "2025-08-02T19:36:32.103521Z",
     "shell.execute_reply": "2025-08-02T19:36:32.102761Z",
     "shell.execute_reply.started": "2025-08-02T19:36:32.045230Z"
    }
   },
   "outputs": [],
   "source": [
    "inputs = processor(\n",
    "    text=[text],\n",
    "    images=image_inputs,\n",
    "    videos=video_inputs,\n",
    "    padding=True,\n",
    "    return_tensors=\"pt\",\n",
    ")\n",
    "inputs = inputs.to(model.device)"
   ]
  },
  {
   "cell_type": "code",
   "execution_count": 8,
   "id": "1e5310a9-bdd9-4e75-bf41-b59ef84c4752",
   "metadata": {
    "execution": {
     "iopub.execute_input": "2025-08-02T19:36:35.112721Z",
     "iopub.status.busy": "2025-08-02T19:36:35.112517Z",
     "iopub.status.idle": "2025-08-02T19:51:39.497159Z",
     "shell.execute_reply": "2025-08-02T19:51:39.496346Z",
     "shell.execute_reply.started": "2025-08-02T19:36:35.112707Z"
    }
   },
   "outputs": [],
   "source": [
    "# Inference: Generation of the output\n",
    "generated_ids = model.generate(**inputs, max_new_tokens=128)\n",
    "generated_ids_trimmed = [\n",
    "    out_ids[len(in_ids) :] for in_ids, out_ids in zip(inputs.input_ids, generated_ids)\n",
    "]"
   ]
  },
  {
   "cell_type": "code",
   "execution_count": 9,
   "id": "8be507b5-6688-4419-8407-f339bab4d85e",
   "metadata": {
    "execution": {
     "iopub.execute_input": "2025-08-02T20:02:57.729095Z",
     "iopub.status.busy": "2025-08-02T20:02:57.728941Z",
     "iopub.status.idle": "2025-08-02T20:02:57.731659Z",
     "shell.execute_reply": "2025-08-02T20:02:57.731287Z",
     "shell.execute_reply.started": "2025-08-02T20:02:57.729083Z"
    }
   },
   "outputs": [
    {
     "name": "stdout",
     "output_type": "stream",
     "text": [
      "['The image depicts a serene beach scene with a person and a dog. The person is sitting on the sandy beach, facing the ocean. They are wearing a plaid shirt and dark pants, and they have long hair. The dog, which appears to be a Labrador Retriever, is sitting on the sand and is interacting with the person by placing its paw on their hand. The dog is wearing a harness with a colorful collar. The background shows the ocean with gentle waves, and the sky is clear with a soft light, suggesting it might be early morning or late afternoon. The overall atmosphere of the image is peaceful and joyful.']\n"
     ]
    }
   ],
   "source": [
    "output_text = processor.batch_decode(\n",
    "    generated_ids_trimmed, skip_special_tokens=True, clean_up_tokenization_spaces=False\n",
    ")\n",
    "print(output_text)"
   ]
  },
  {
   "cell_type": "code",
   "execution_count": null,
   "id": "f2505202-d7c8-443a-99cd-9c44ccf4f514",
   "metadata": {},
   "outputs": [],
   "source": []
  }
 ],
 "metadata": {
  "kernelspec": {
   "display_name": "Python 3 (ipykernel)",
   "language": "python",
   "name": "python3"
  },
  "language_info": {
   "codemirror_mode": {
    "name": "ipython",
    "version": 3
   },
   "file_extension": ".py",
   "mimetype": "text/x-python",
   "name": "python",
   "nbconvert_exporter": "python",
   "pygments_lexer": "ipython3",
   "version": "3.10.0"
  }
 },
 "nbformat": 4,
 "nbformat_minor": 5
}
