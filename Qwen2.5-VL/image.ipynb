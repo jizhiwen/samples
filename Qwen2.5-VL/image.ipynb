{
 "cells": [
  {
   "cell_type": "code",
   "execution_count": 3,
   "id": "a065a0da-a0f6-4643-917f-b88cc4d1fc62",
   "metadata": {
    "execution": {
     "iopub.execute_input": "2025-08-10T11:56:18.888470Z",
     "iopub.status.busy": "2025-08-10T11:56:18.888183Z",
     "iopub.status.idle": "2025-08-10T11:56:18.891604Z",
     "shell.execute_reply": "2025-08-10T11:56:18.891158Z",
     "shell.execute_reply.started": "2025-08-10T11:56:18.888454Z"
    }
   },
   "outputs": [],
   "source": [
    "from transformers import Qwen2_5_VLForConditionalGeneration, AutoProcessor\n",
    "from qwen_vl_utils import process_vision_info"
   ]
  },
  {
   "cell_type": "code",
   "execution_count": 4,
   "id": "65643881-1dc0-443c-b76f-727077574273",
   "metadata": {
    "execution": {
     "iopub.execute_input": "2025-08-10T11:56:21.837832Z",
     "iopub.status.busy": "2025-08-10T11:56:21.837627Z",
     "iopub.status.idle": "2025-08-10T11:56:33.235373Z",
     "shell.execute_reply": "2025-08-10T11:56:33.234822Z",
     "shell.execute_reply.started": "2025-08-10T11:56:21.837814Z"
    }
   },
   "outputs": [
    {
     "name": "stderr",
     "output_type": "stream",
     "text": [
      "Loading checkpoint shards: 100%|██████████| 2/2 [00:01<00:00,  1.56it/s]\n"
     ]
    },
    {
     "name": "stdout",
     "output_type": "stream",
     "text": [
      "cpu\n"
     ]
    }
   ],
   "source": [
    "# default: Load the model on the available device(s)\n",
    "model = Qwen2_5_VLForConditionalGeneration.from_pretrained(\n",
    "    \"Qwen/Qwen2.5-VL-3B-Instruct\", torch_dtype=\"float16\", device_map=\"auto\", local_files_only=True\n",
    ")\n",
    "print(model.device)"
   ]
  },
  {
   "cell_type": "code",
   "execution_count": 5,
   "id": "8ea08896-c007-4783-bd3b-1d71cc275ed3",
   "metadata": {
    "execution": {
     "iopub.execute_input": "2025-08-10T11:56:33.236189Z",
     "iopub.status.busy": "2025-08-10T11:56:33.235989Z",
     "iopub.status.idle": "2025-08-10T11:56:33.239091Z",
     "shell.execute_reply": "2025-08-10T11:56:33.238642Z",
     "shell.execute_reply.started": "2025-08-10T11:56:33.236174Z"
    }
   },
   "outputs": [
    {
     "name": "stdout",
     "output_type": "stream",
     "text": [
      "PyTorch: 2.8.0+cpu\n",
      "CUDA: False\n",
      "CUDA devices: 0\n"
     ]
    }
   ],
   "source": [
    "import torch\n",
    "\n",
    "print(f\"PyTorch: {torch.__version__}\")\n",
    "print(f\"CUDA: {torch.cuda.is_available()}\")\n",
    "print(f\"CUDA devices: {torch.cuda.device_count()}\")\n"
   ]
  },
  {
   "cell_type": "code",
   "execution_count": 6,
   "id": "092c5f67-3e38-4067-8ff8-9eee8a5d4fd9",
   "metadata": {
    "execution": {
     "iopub.execute_input": "2025-08-10T11:56:36.953624Z",
     "iopub.status.busy": "2025-08-10T11:56:36.953420Z",
     "iopub.status.idle": "2025-08-10T11:56:57.498719Z",
     "shell.execute_reply": "2025-08-10T11:56:57.498046Z",
     "shell.execute_reply.started": "2025-08-10T11:56:36.953606Z"
    }
   },
   "outputs": [
    {
     "name": "stderr",
     "output_type": "stream",
     "text": [
      "The image processor of type `Qwen2VLImageProcessor` is now loaded as a fast processor by default, even if the model checkpoint was saved with a slow processor. This is a breaking change and may produce slightly different outputs. To continue using the slow processor, instantiate this class with `use_fast=False`. Note that this behavior will be extended to all models in a future release.\n",
      "You have video processor config saved in `preprocessor.json` file which is deprecated. Video processor configs should be saved in their own `video_preprocessor.json` file. You can rename the file or load and save the processor back which renames it automatically. Loading from `preprocessor.json` will be removed in v5.0.\n"
     ]
    }
   ],
   "source": [
    "# We recommend enabling flash_attention_2 for better acceleration and memory saving, especially in multi-image and video scenarios.\n",
    "# model = Qwen2_5_VLForConditionalGeneration.from_pretrained(\n",
    "#     \"Qwen/Qwen2.5-VL-7B-Instruct\",\n",
    "#     torch_dtype=torch.bfloat16,\n",
    "#     attn_implementation=\"flash_attention_2\",\n",
    "#     device_map=\"auto\",\n",
    "# )\n",
    "\n",
    "# default processor\n",
    "processor = AutoProcessor.from_pretrained(\"Qwen/Qwen2.5-VL-3B-Instruct\", local_files_only=True)"
   ]
  },
  {
   "cell_type": "code",
   "execution_count": 7,
   "id": "cf006287-db90-4238-93d3-f56811f2a9c9",
   "metadata": {
    "execution": {
     "iopub.execute_input": "2025-08-10T11:56:57.499696Z",
     "iopub.status.busy": "2025-08-10T11:56:57.499527Z",
     "iopub.status.idle": "2025-08-10T11:56:57.503076Z",
     "shell.execute_reply": "2025-08-10T11:56:57.502525Z",
     "shell.execute_reply.started": "2025-08-10T11:56:57.499681Z"
    }
   },
   "outputs": [],
   "source": [
    "# The default range for the number of visual tokens per image in the model is 4-16384.\n",
    "# You can set min_pixels and max_pixels according to your needs, such as a token range of 256-1280, to balance performance and cost.\n",
    "# min_pixels = 256*28*28\n",
    "# max_pixels = 1280*28*28\n",
    "# processor = AutoProcessor.from_pretrained(\"Qwen/Qwen2.5-VL-7B-Instruct\", min_pixels=min_pixels, max_pixels=max_pixels)\n",
    "\n",
    "messages = [\n",
    "    {\n",
    "        \"role\": \"user\",\n",
    "        \"content\": [\n",
    "            {\n",
    "                \"type\": \"image\",\n",
    "                \"image\": \"https://qianwen-res.oss-cn-beijing.aliyuncs.com/Qwen-VL/assets/demo.jpeg\",\n",
    "            },\n",
    "            {\"type\": \"text\", \"text\": \"Describe this image.\"},\n",
    "        ],\n",
    "    }\n",
    "]"
   ]
  },
  {
   "cell_type": "code",
   "execution_count": 8,
   "id": "5b2ef9e8-034b-46a7-991c-52a0f1847ded",
   "metadata": {
    "execution": {
     "iopub.execute_input": "2025-08-10T11:56:57.503834Z",
     "iopub.status.busy": "2025-08-10T11:56:57.503530Z",
     "iopub.status.idle": "2025-08-10T11:56:57.512785Z",
     "shell.execute_reply": "2025-08-10T11:56:57.512422Z",
     "shell.execute_reply.started": "2025-08-10T11:56:57.503820Z"
    }
   },
   "outputs": [],
   "source": [
    "# Preparation for inference\n",
    "text = processor.apply_chat_template(\n",
    "    messages, tokenize=False, add_generation_prompt=True\n",
    ")"
   ]
  },
  {
   "cell_type": "code",
   "execution_count": 9,
   "id": "aa827509-e915-4f9f-8784-9d640942c94b",
   "metadata": {
    "execution": {
     "iopub.execute_input": "2025-08-10T11:56:57.513716Z",
     "iopub.status.busy": "2025-08-10T11:56:57.513417Z",
     "iopub.status.idle": "2025-08-10T11:56:57.826282Z",
     "shell.execute_reply": "2025-08-10T11:56:57.825483Z",
     "shell.execute_reply.started": "2025-08-10T11:56:57.513702Z"
    }
   },
   "outputs": [],
   "source": [
    "image_inputs, video_inputs = process_vision_info(messages)"
   ]
  },
  {
   "cell_type": "code",
   "execution_count": 10,
   "id": "4f6bb634-df44-499c-bfaf-f881c735c55f",
   "metadata": {
    "execution": {
     "iopub.execute_input": "2025-08-10T11:57:38.776631Z",
     "iopub.status.busy": "2025-08-10T11:57:38.776424Z",
     "iopub.status.idle": "2025-08-10T11:57:38.846561Z",
     "shell.execute_reply": "2025-08-10T11:57:38.845867Z",
     "shell.execute_reply.started": "2025-08-10T11:57:38.776616Z"
    }
   },
   "outputs": [],
   "source": [
    "inputs = processor(\n",
    "    text=[text],\n",
    "    images=image_inputs,\n",
    "    videos=video_inputs,\n",
    "    padding=True,\n",
    "    return_tensors=\"pt\",\n",
    ")\n",
    "inputs = inputs.to(model.device)"
   ]
  },
  {
   "cell_type": "code",
   "execution_count": 11,
   "id": "1e5310a9-bdd9-4e75-bf41-b59ef84c4752",
   "metadata": {
    "execution": {
     "iopub.execute_input": "2025-08-10T11:57:41.293274Z",
     "iopub.status.busy": "2025-08-10T11:57:41.292984Z",
     "iopub.status.idle": "2025-08-10T12:14:20.796088Z",
     "shell.execute_reply": "2025-08-10T12:14:20.795169Z",
     "shell.execute_reply.started": "2025-08-10T11:57:41.293253Z"
    }
   },
   "outputs": [],
   "source": [
    "# Inference: Generation of the output\n",
    "generated_ids = model.generate(**inputs, max_new_tokens=128)\n",
    "generated_ids_trimmed = [\n",
    "    out_ids[len(in_ids) :] for in_ids, out_ids in zip(inputs.input_ids, generated_ids)\n",
    "]"
   ]
  },
  {
   "cell_type": "code",
   "execution_count": 12,
   "id": "8be507b5-6688-4419-8407-f339bab4d85e",
   "metadata": {
    "execution": {
     "iopub.execute_input": "2025-08-10T12:15:28.573387Z",
     "iopub.status.busy": "2025-08-10T12:15:28.573129Z",
     "iopub.status.idle": "2025-08-10T12:15:28.577429Z",
     "shell.execute_reply": "2025-08-10T12:15:28.576746Z",
     "shell.execute_reply.started": "2025-08-10T12:15:28.573368Z"
    }
   },
   "outputs": [
    {
     "name": "stdout",
     "output_type": "stream",
     "text": [
      "['The image depicts a serene beach scene with a person and a dog. The person is sitting on the sandy beach, facing the ocean. They are wearing a plaid shirt and dark pants, and they have long hair. The dog, which appears to be a Labrador Retriever, is sitting on the sand and is interacting with the person by placing its paw on their hand. The dog is wearing a harness with a colorful collar. The background shows the ocean with gentle waves, and the sky is clear with a soft light, suggesting it might be early morning or late afternoon. The overall atmosphere of the image is peaceful and joyful.']\n"
     ]
    }
   ],
   "source": [
    "output_text = processor.batch_decode(\n",
    "    generated_ids_trimmed, skip_special_tokens=True, clean_up_tokenization_spaces=False\n",
    ")\n",
    "print(output_text)"
   ]
  },
  {
   "cell_type": "code",
   "execution_count": null,
   "id": "974cf3c0-13a2-449b-9de8-555118d5cf58",
   "metadata": {},
   "outputs": [],
   "source": []
  },
  {
   "cell_type": "code",
   "execution_count": null,
   "id": "1c22394d-8f73-4374-80c5-c1cff23d71c6",
   "metadata": {},
   "outputs": [],
   "source": []
  },
  {
   "cell_type": "code",
   "execution_count": null,
   "id": "3fd95613-cd2a-4dd6-acf4-8a84cf86813c",
   "metadata": {},
   "outputs": [],
   "source": []
  },
  {
   "cell_type": "code",
   "execution_count": null,
   "id": "7111125e-417c-429f-94d4-fe30b4220e24",
   "metadata": {},
   "outputs": [],
   "source": []
  }
 ],
 "metadata": {
  "kernelspec": {
   "display_name": "transformers",
   "language": "python",
   "name": "transformers"
  },
  "language_info": {
   "codemirror_mode": {
    "name": "ipython",
    "version": 3
   },
   "file_extension": ".py",
   "mimetype": "text/x-python",
   "name": "python",
   "nbconvert_exporter": "python",
   "pygments_lexer": "ipython3",
   "version": "3.10.0"
  }
 },
 "nbformat": 4,
 "nbformat_minor": 5
}
